{
 "cells": [
  {
   "attachments": {},
   "cell_type": "markdown",
   "metadata": {},
   "source": [
    "# Pregunta 13_1 "
   ]
  },
  {
   "cell_type": "code",
   "execution_count": null,
   "metadata": {
    "vscode": {
     "languageId": "r"
    }
   },
   "outputs": [],
   "source": [
    "# Configuración para mostrar gráficos en Jupyter Notebook\n",
    "if (!requireNamespace(\"IRkernel\", quietly = TRUE)) install.packages(\"IRkernel\")\n",
    "IRkernel::installspec()  # Instalar si aún no está configurado\n",
    "\n",
    "# Cargar librerías necesarias\n",
    "library(MASS)\n",
    "library(ggplot2)\n",
    "\n",
    "# Cargar el archivo .rda\n",
    "load(\"color_stimuli.rda\")\n",
    "\n",
    "# Revisar la estructura del objeto cargado\n",
    "str(color_stimuli)"
   ]
  },
  {
   "attachments": {},
   "cell_type": "markdown",
   "metadata": {},
   "source": [
    "El objetivo es llevar a cabo un análisis de escalamiento clásico (Classical Multidimensional Scaling) para mostrar que la solución forma un \"círculo de colores\". Luego, compararemos esta solución con la representación de escalamiento no métrico.\n",
    "\n",
    "## Paso 1: Cargar los datos y bibliotecas necesarias"
   ]
  },
  {
   "cell_type": "code",
   "execution_count": 9,
   "metadata": {
    "vscode": {
     "languageId": "r"
    }
   },
   "outputs": [
    {
     "data": {
      "text/html": [
       "'color.stimuli'"
      ],
      "text/latex": [
       "'color.stimuli'"
      ],
      "text/markdown": [
       "'color.stimuli'"
      ],
      "text/plain": [
       "[1] \"color.stimuli\""
      ]
     },
     "metadata": {},
     "output_type": "display_data"
    },
    {
     "name": "stdout",
     "output_type": "stream",
     "text": [
      "     w434 w445 w465 w472 w490 w504 w537 w555 w584 w600 w610 w628 w651\n",
      "w445 0.86                                                            \n",
      "w465 0.42 0.50                                                       \n",
      "w472 0.42 0.44 0.81                                                  \n",
      "w490 0.18 0.22 0.47 0.54                                             \n",
      "w504 0.06 0.09 0.17 0.25 0.61                                        \n",
      "w537 0.07 0.07 0.10 0.10 0.31 0.62                                   \n",
      "w555 0.04 0.07 0.08 0.09 0.26 0.45 0.73                              \n",
      "w584 0.02 0.02 0.02 0.02 0.07 0.14 0.22 0.33                         \n",
      "w600 0.07 0.04 0.01 0.01 0.02 0.08 0.14 0.19 0.58                    \n",
      "w610 0.09 0.07 0.02 0.00 0.02 0.02 0.05 0.04 0.37 0.74               \n",
      "w628 0.12 0.11 0.01 0.01 0.01 0.02 0.02 0.03 0.27 0.50 0.76          \n",
      "w651 0.13 0.13 0.05 0.02 0.02 0.02 0.02 0.02 0.20 0.41 0.62 0.85     \n",
      "w674 0.16 0.14 0.03 0.04 0.00 0.01 0.00 0.02 0.23 0.28 0.55 0.68 0.76\n"
     ]
    }
   ],
   "source": [
    "# Cargar las bibliotecas necesarias\n",
    "library(MASS)   # Para el escalamiento clásico (cmdscale)\n",
    "library(ggplot2)  # Para graficar\n",
    "\n",
    "# Cargar el archivo .rda\n",
    "load(\"D:/MultivariateMethods/Data/color_stimuli.rda\")\n",
    "\n",
    "# Listar los objetos disponibles en tu entorno de R después de cargar el archivo\n",
    "ls()\n",
    "\n",
    "# Visualizar la matriz de similitud\n",
    "print(color.stimuli)"
   ]
  },
  {
   "attachments": {},
   "cell_type": "markdown",
   "metadata": {},
   "source": [
    "## Paso 2: Realizar el escalamiento clásico (MDS)\n",
    "Utilizaremos el método de **escala multidimensional clásica** (`cmdscale`) para reducir la dimensionalidad y obtener una representación en 2 dimensiones."
   ]
  },
  {
   "cell_type": "code",
   "execution_count": 16,
   "metadata": {
    "vscode": {
     "languageId": "r"
    }
   },
   "outputs": [
    {
     "name": "stdout",
     "output_type": "stream",
     "text": [
      "[1] \"Coordenadas obtenidas del escalamiento clásico:\"\n",
      "              Dim1          Dim2 wavelength\n",
      "w434 -0.0117680578  4.045244e-01       w434\n",
      "w445  0.0113181349 -4.203397e-01       w445\n",
      "w465  0.0013915910  1.416778e-01       w465\n",
      "w472 -0.0012171578 -1.188871e-01       w472\n",
      "w490  0.0007370961  9.927618e-03       w490\n",
      "w504 -0.0001569152  1.240479e-03       w504\n",
      "w537  0.0007667720 -8.108290e-03       w537\n",
      "w555 -0.0006123593  2.519799e-03       w555\n",
      "w584 -0.0361185913 -3.156695e-03       w584\n",
      "w600  0.1224524850 -3.322372e-05       w600\n",
      "w610 -0.2470818490 -8.808723e-03       w610\n",
      "w628  0.4157011780  1.168768e-02       w628\n",
      "w651 -0.3634716301 -7.114676e-03       w651\n",
      "w674  0.1080593035 -5.129443e-03       w674\n"
     ]
    }
   ],
   "source": [
    "# Calcular el escalamiento clásico (MDS) en 2 dimensiones\n",
    "mds_result <- cmdscale(color.stimuli, k = 2, eig = TRUE)\n",
    "\n",
    "# Extraer las coordenadas\n",
    "coordinates <- as.data.frame(mds_result$points)\n",
    "colnames(coordinates) <- c(\"Dim1\", \"Dim2\")\n",
    "coordinates$wavelength <- rownames(coordinates)\n",
    "\n",
    "# Mostrar las coordenadas obtenidas\n",
    "print(\"Coordenadas obtenidas del escalamiento clásico:\")\n",
    "print(coordinates)\n"
   ]
  },
  {
   "attachments": {},
   "cell_type": "markdown",
   "metadata": {},
   "source": [
    "## Paso 3: Graficar la solución en un círculo de colores\n",
    "Ahora, utilizaremos ggplot2 para visualizar los resultados y verificar si forman un círculo de colores similar al proporcionado en la Figura 13.3."
   ]
  },
  {
   "cell_type": "code",
   "execution_count": 18,
   "metadata": {
    "vscode": {
     "languageId": "r"
    }
   },
   "outputs": [
    {
     "data": {
      "image/png": "[encoded data removed]",
      "text/plain": [
       "plot without title"
      ]
     },
     "metadata": {
      "image/png": {
       "height": 420,
       "width": 420
      }
     },
     "output_type": "display_data"
    }
   ],
   "source": [
    "# Asignar colores a las longitudes de onda\n",
    "color_map <- c(\"w434\" = \"purple\", \"w445\" = \"blue\", \"w465\" = \"blue\",\n",
    "               \"w472\" = \"blue\", \"w490\" = \"blue\", \"w504\" = \"green\",\n",
    "               \"w537\" = \"green\", \"w555\" = \"green\", \"w584\" = \"yellow\",\n",
    "               \"w600\" = \"orange\", \"w610\" = \"orange\", \"w628\" = \"orange\",\n",
    "               \"w651\" = \"red\", \"w674\" = \"red\")\n",
    "\n",
    "# Graficar el círculo de colores con ggplot2\n",
    "library(ggplot2)\n",
    "\n",
    "ggplot(coordinates, aes(x = Dim1, y = Dim2, label = wavelength)) +\n",
    "  geom_point(aes(color = wavelength), size = 4) +\n",
    "  geom_text(vjust = -0.5, hjust = 0.5) +\n",
    "  scale_color_manual(values = color_map) +\n",
    "  labs(\n",
    "    title = \"Escalamiento Clásico - Círculo de Colores\",\n",
    "    x = \"Dimensión 1\",\n",
    "    y = \"Dimensión 2\"\n",
    "  ) +\n",
    "  theme_minimal() +\n",
    "  theme(\n",
    "    legend.title = element_text(size = 10),\n",
    "    legend.text = element_text(size = 8)\n",
    "  ) +\n",
    "  coord_fixed()\n"
   ]
  },
  {
   "attachments": {},
   "cell_type": "markdown",
   "metadata": {},
   "source": [
    "## Observaciones Clave\n",
    "\n",
    "### 1. Organización del \"Círculo de Colores\"\n",
    "- Los colores están dispuestos en un patrón aproximadamente circular, lo que indica que las similitudes percibidas entre colores están representadas de forma continua.\n",
    "- Los colores cercanos en el espectro de longitudes de onda (como **azul** y **verde**, o **amarillo** y **naranja**) se agrupan cercanamente en el espacio bidimensional.\n",
    "\n",
    "### 2. Análisis de Agrupación\n",
    "- **Violeta (434 mµ)** y **azul (445 mµ, 465 mµ, 472 mµ)** se agrupan en la parte superior del gráfico.\n",
    "- Los colores **verdes (504 mµ, 537 mµ)** están ubicados cerca del centro, lo que indica una menor disimilitud con otros colores.\n",
    "- Los tonos **amarillos (555 mµ, 584 mµ)** están algo dispersos, pero cercanos al centro del gráfico, lo que sugiere una transición hacia los tonos más cálidos.\n",
    "- **Naranja (600 mµ, 610 mµ)** y **rojo (628 mµ, 651 mµ, 674 mµ)** se encuentran en los extremos opuestos, indicando su similitud perceptual.\n",
    "\n",
    "### 3. Distribución Asimétrica\n",
    "- Los colores **rojo** y **naranja-rojo** (longitudes de onda altas como **651 mµ** y **628 mµ**) se distribuyen hacia los extremos del gráfico, lo que sugiere una disimilitud marcada respecto a los colores de menor longitud de onda (como el **violeta** y **azul**).\n",
    "\n",
    "## Conclusión General\n",
    "- El análisis MDS confirma que las percepciones de similitud de los colores pueden representarse en un espacio bidimensional, formando un \"círculo de colores\". Esta representación es consistente con la teoría del círculo cromático, donde los colores adyacentes son perceptualmente similares.\n",
    "- Aunque la distribución no es un círculo perfecto debido a las diferencias en las percepciones humanas y los sesgos en los datos de similitud, el patrón sigue la transición de colores esperada en el espectro de luz visible.\n"
   ]
  }
 ],
 "metadata": {
  "kernelspec": {
   "display_name": "R",
   "language": "R",
   "name": "ir"
  },
  "language_info": {
   "codemirror_mode": "r",
   "file_extension": ".r",
   "mimetype": "text/x-r-source",
   "name": "R",
   "pygments_lexer": "r",
   "version": "4.2.2"
  },
  "orig_nbformat": 4,
  "vscode": {
   "interpreter": {
    "hash": "15b0b646c21b8f80a20ac3ca0b6c440335a0ab8e0aad88dec1cfe0fc1eea5a42"
   }
  }
 },
 "nbformat": 4,
 "nbformat_minor": 2
}
